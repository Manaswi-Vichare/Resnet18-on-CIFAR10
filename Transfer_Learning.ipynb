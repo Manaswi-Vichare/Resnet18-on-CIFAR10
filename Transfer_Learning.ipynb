{
  "nbformat": 4,
  "nbformat_minor": 0,
  "metadata": {
    "colab": {
      "provenance": [],
      "gpuType": "T4"
    },
    "kernelspec": {
      "name": "python3",
      "display_name": "Python 3"
    },
    "language_info": {
      "name": "python"
    },
    "accelerator": "GPU"
  },
  "cells": [
    {
      "cell_type": "markdown",
      "source": [
        "Import the necessary python packages and libraries in the following cell."
      ],
      "metadata": {
        "id": "zCXLoICufNVb"
      }
    },
    {
      "cell_type": "code",
      "execution_count": 1,
      "metadata": {
        "id": "Pvvfqso5Lwo5"
      },
      "outputs": [],
      "source": [
        "import torch\n",
        "import torch.nn as nn\n",
        "import torch.optim as optim\n",
        "import torchvision\n",
        "import torchvision.transforms as transforms\n",
        "from torch.utils.data import DataLoader, Subset\n",
        "import torchvision.models as models\n",
        "from torchvision import datasets\n",
        "import seaborn as sns\n",
        "import matplotlib.pyplot as plt"
      ]
    },
    {
      "cell_type": "markdown",
      "source": [
        "Print the torch and torchvision version"
      ],
      "metadata": {
        "id": "oC2LO3gWXoC6"
      }
    },
    {
      "cell_type": "code",
      "source": [
        "# Your code here\n",
        "print(\"PyTorch version:\", torch.__version__)\n",
        "print(\"Torchvision version:\", torchvision.__version__)"
      ],
      "metadata": {
        "id": "DAUwwgq4UoM4",
        "colab": {
          "base_uri": "https://localhost:8080/"
        },
        "outputId": "7751fefd-eadd-4960-c037-6f9bf5783635"
      },
      "execution_count": 2,
      "outputs": [
        {
          "output_type": "stream",
          "name": "stdout",
          "text": [
            "PyTorch version: 2.3.0+cu121\n",
            "Torchvision version: 0.18.0+cu121\n"
          ]
        }
      ]
    },
    {
      "cell_type": "markdown",
      "source": [
        "Set the device to cuda, if available."
      ],
      "metadata": {
        "id": "ToeCElBBXzDE"
      }
    },
    {
      "cell_type": "code",
      "source": [
        "device = torch.device(\"cuda:0\" if torch.cuda.is_available() else \"cpu\")\n",
        "device"
      ],
      "metadata": {
        "id": "v36w_JYRN5zi",
        "colab": {
          "base_uri": "https://localhost:8080/"
        },
        "outputId": "b7236da6-3f0e-45a1-f51a-8925b499fd72"
      },
      "execution_count": 3,
      "outputs": [
        {
          "output_type": "execute_result",
          "data": {
            "text/plain": [
              "device(type='cuda', index=0)"
            ]
          },
          "metadata": {},
          "execution_count": 3
        }
      ]
    },
    {
      "cell_type": "markdown",
      "source": [
        "Transform or preprocess the data:\n",
        "\n",
        "*   Normalize data\n",
        "*   Resize each image to 224 x 224\n",
        "*   Add Color Jitter with hue and saturation as 0.5\n",
        "*   Introduce Random horizontal flips\n",
        "*   Rotate images about 20 degrees\n"
      ],
      "metadata": {
        "id": "uRagh6zpX6eu"
      }
    },
    {
      "cell_type": "code",
      "source": [
        "transform = transforms.Compose([\n",
        "    transforms.Resize((224, 224)),\n",
        "    transforms.RandomHorizontalFlip(),\n",
        "    transforms.RandomRotation(20),\n",
        "    transforms.ColorJitter(hue=0.5, saturation=0.5),\n",
        "    transforms.ToTensor(),\n",
        "    transforms.Normalize((0.5, 0.5, 0.5), (0.5, 0.5, 0.5))\n",
        "])"
      ],
      "metadata": {
        "id": "jyECVuHCLzjU"
      },
      "execution_count": 4,
      "outputs": []
    },
    {
      "cell_type": "markdown",
      "source": [
        "Train and test Resnet18 on Even numbered Classes in CIFAR10 Dataset.\n"
      ],
      "metadata": {
        "id": "lpigLtrfN_0r"
      }
    },
    {
      "cell_type": "code",
      "source": [
        "class CustomCIFAR10(datasets.CIFAR10):\n",
        "    def __init__(self, *args, label_mapping=None, valid_classes=None, **kwargs):\n",
        "        super(CustomCIFAR10, self).__init__(*args, **kwargs)\n",
        "        self.label_mapping = label_mapping\n",
        "        self.valid_classes = valid_classes\n",
        "\n",
        "    def __getitem__(self, index):\n",
        "        img, target = super(CustomCIFAR10, self).__getitem__(index)\n",
        "        if self.valid_classes is not None and target not in self.valid_classes:\n",
        "            raise KeyError(f\"Class {target} not in valid_classes.\")\n",
        "        if self.label_mapping is not None:\n",
        "            target = self.label_mapping.get(target, target)\n",
        "        return img, target\n",
        "\n",
        "    def __len__(self):\n",
        "        return super(CustomCIFAR10, self).__len__()\n",
        "\n",
        "label_mapping = {0: 0, 2: 1, 4: 2, 6: 3, 8: 4}\n",
        "even_classes = [0, 2, 4, 6, 8]\n",
        "\n",
        "# Ensure valid_classes cover all classes present in the dataset\n",
        "valid_classes = set(range(10))\n",
        "\n",
        "trainset = CustomCIFAR10(root='./data', train=True, download=True, transform=transform, label_mapping=label_mapping, valid_classes=valid_classes)\n",
        "testset = CustomCIFAR10(root='./data', train=False, download=True, transform=transform, label_mapping=label_mapping, valid_classes=valid_classes)\n",
        "\n",
        "train_subset_indices = [i for i in range(len(trainset)) if trainset[i][1] in even_classes]\n",
        "test_subset_indices = [i for i in range(len(testset)) if testset[i][1] in even_classes]\n",
        "\n",
        "train_subset = Subset(trainset, train_subset_indices)\n",
        "test_subset = Subset(testset, test_subset_indices)\n",
        "\n",
        "trainloader = DataLoader(train_subset, batch_size=64, shuffle=True, num_workers=2)\n",
        "testloader = DataLoader(test_subset, batch_size=64, shuffle=False, num_workers=2)"
      ],
      "metadata": {
        "colab": {
          "base_uri": "https://localhost:8080/"
        },
        "id": "G9_FJjUTMNTz",
        "outputId": "053621ca-2fd2-41e2-e0e3-9aa268e2ab50"
      },
      "execution_count": 6,
      "outputs": [
        {
          "output_type": "stream",
          "name": "stdout",
          "text": [
            "Files already downloaded and verified\n",
            "Files already downloaded and verified\n"
          ]
        }
      ]
    },
    {
      "cell_type": "code",
      "source": [
        "trainloader = DataLoader(train_subset, batch_size=64, shuffle=True, num_workers=2)\n",
        "testloader = DataLoader(test_subset, batch_size=64, shuffle=False, num_workers=2)"
      ],
      "metadata": {
        "id": "BduF1BRaMXdy"
      },
      "execution_count": 7,
      "outputs": []
    },
    {
      "cell_type": "code",
      "source": [
        "model = models.resnet18(pretrained=True)\n",
        "\n",
        "model.fc = nn.Linear(model.fc.in_features, len(even_classes)).to(device)\n",
        "model = model.to(device)"
      ],
      "metadata": {
        "id": "bcy3z3LwMfD_",
        "colab": {
          "base_uri": "https://localhost:8080/"
        },
        "outputId": "56337b31-e9bc-41d9-c84d-dd0729d1a9c0"
      },
      "execution_count": 8,
      "outputs": [
        {
          "output_type": "stream",
          "name": "stderr",
          "text": [
            "/usr/local/lib/python3.10/dist-packages/torchvision/models/_utils.py:208: UserWarning: The parameter 'pretrained' is deprecated since 0.13 and may be removed in the future, please use 'weights' instead.\n",
            "  warnings.warn(\n",
            "/usr/local/lib/python3.10/dist-packages/torchvision/models/_utils.py:223: UserWarning: Arguments other than a weight enum or `None` for 'weights' are deprecated since 0.13 and may be removed in the future. The current behavior is equivalent to passing `weights=ResNet18_Weights.IMAGENET1K_V1`. You can also use `weights=ResNet18_Weights.DEFAULT` to get the most up-to-date weights.\n",
            "  warnings.warn(msg)\n"
          ]
        }
      ]
    },
    {
      "cell_type": "code",
      "source": [
        "criterion = nn.CrossEntropyLoss()\n",
        "optimizer = optim.Adam(model.parameters(), lr=0.001)"
      ],
      "metadata": {
        "id": "F0so2UU3Mk-H"
      },
      "execution_count": 9,
      "outputs": []
    },
    {
      "cell_type": "markdown",
      "source": [
        "Train"
      ],
      "metadata": {
        "id": "BE34EPF5cSx1"
      }
    },
    {
      "cell_type": "code",
      "source": [
        "def train(model, trainloader, criterion, optimizer, device):\n",
        "    model.train()\n",
        "    train_loss = 0.0\n",
        "    correct_train = 0\n",
        "    total_train = 0\n",
        "\n",
        "    for inputs, labels in trainloader:\n",
        "        inputs, labels = inputs.to(device), labels.to(device)\n",
        "\n",
        "        optimizer.zero_grad()\n",
        "        outputs = model(inputs)\n",
        "        loss = criterion(outputs, labels)\n",
        "        loss.backward()\n",
        "        optimizer.step()\n",
        "        train_loss += loss.item()\n",
        "\n",
        "        _, pred = outputs.max(1)\n",
        "        total_train += labels.size(0)\n",
        "        correct_train += pred.eq(labels).sum().item()\n",
        "\n",
        "    train_acc = 100 * correct_train / total_train\n",
        "    return train_loss / len(trainloader), train_acc"
      ],
      "metadata": {
        "id": "Dk3Ve6KZMwzo"
      },
      "execution_count": 10,
      "outputs": []
    },
    {
      "cell_type": "markdown",
      "source": [
        "Test"
      ],
      "metadata": {
        "id": "qyLTfPyQcndU"
      }
    },
    {
      "cell_type": "code",
      "source": [
        "def test(model, testloader, criterion, device):\n",
        "    model.eval()\n",
        "    correct_test = 0\n",
        "    total_test = 0\n",
        "\n",
        "    with torch.no_grad():\n",
        "        for inputs, labels in testloader:\n",
        "            inputs, labels = inputs.to(device), labels.to(device)\n",
        "\n",
        "            # Forward pass\n",
        "            outputs = model(inputs)\n",
        "\n",
        "            # Calculate accuracy\n",
        "            _, pred = outputs.max(1)\n",
        "            total_test += labels.size(0)\n",
        "            correct_test += pred.eq(labels).sum().item()\n",
        "\n",
        "    test_accuracy = 100 * correct_test / total_test\n",
        "    return test_accuracy"
      ],
      "metadata": {
        "id": "4hKN8C5oNrH8"
      },
      "execution_count": 11,
      "outputs": []
    },
    {
      "cell_type": "markdown",
      "source": [
        "Plot the accuracy achieved:"
      ],
      "metadata": {
        "id": "yv8URWXMaiDE"
      }
    },
    {
      "cell_type": "code",
      "source": [
        "device = torch.device(\"cuda:0\" if torch.cuda.is_available() else \"cpu\")\n",
        "model = model.to(device)"
      ],
      "metadata": {
        "id": "-lAHDu-A2vFQ"
      },
      "execution_count": 12,
      "outputs": []
    },
    {
      "cell_type": "code",
      "source": [
        "def plot_accuracies(train_accuracies, test_accuracies, epochs):\n",
        "    print(\"Train Accuracies:\", train_accuracies)\n",
        "    print(\"Test Accuracies:\", test_accuracies)\n",
        "\n",
        "    plt.plot(range(1, epochs + 1), train_accuracies, label='Train Accuracy')\n",
        "    plt.plot(range(1, epochs + 1), test_accuracies, label='Test Accuracy')\n",
        "\n",
        "    plt.xlabel('Epochs')\n",
        "    plt.ylabel('Accuracy')\n",
        "    plt.title('Train and Test Accuracies vs Epochs')\n",
        "    plt.legend()\n",
        "    plt.show()"
      ],
      "metadata": {
        "id": "YapUFkS5NzHs"
      },
      "execution_count": 13,
      "outputs": []
    },
    {
      "cell_type": "markdown",
      "source": [
        "Confusion Matrix from scratch"
      ],
      "metadata": {
        "id": "Cr2ILH4bXhw9"
      }
    },
    {
      "cell_type": "code",
      "source": [
        "def plot_confusion_matrix(model, dataloader, class_names, device):\n",
        "    model.eval()\n",
        "    all_labels = []\n",
        "    all_predictions = []\n",
        "\n",
        "    num_classes = len(class_names)\n",
        "    confusion_matrix = torch.zeros(num_classes, num_classes)\n",
        "\n",
        "    with torch.no_grad():\n",
        "        for inputs, labels in dataloader:\n",
        "            inputs, labels = inputs.to(device), labels.to(device)\n",
        "\n",
        "            # Forward pass\n",
        "            outputs = model(inputs)\n",
        "\n",
        "            # Get predicted labels\n",
        "            _, preds = torch.max(outputs, 1)\n",
        "\n",
        "            # Update confusion matrix\n",
        "            for t, p in zip(labels.view(-1), preds.view(-1)):\n",
        "                confusion_matrix[t.long(), p.long()] += 1\n",
        "\n",
        "\n",
        "    plt.figure(figsize=(num_classes, num_classes))\n",
        "    sns.heatmap(confusion_matrix, annot=True, fmt=\".0f\", cmap=\"Blues\", xticklabels=class_names, yticklabels=class_names)\n",
        "    plt.xlabel('Predicted')\n",
        "    plt.ylabel('Actual')\n",
        "    plt.title('Confusion Matrix')\n",
        "    plt.show()"
      ],
      "metadata": {
        "id": "TcCb7VHRP7Mz"
      },
      "execution_count": 14,
      "outputs": []
    },
    {
      "cell_type": "markdown",
      "source": [
        "Main function"
      ],
      "metadata": {
        "id": "zZMxIIdUm-OV"
      }
    },
    {
      "cell_type": "code",
      "source": [
        "epochs = 5\n",
        "train_accuracies = []\n",
        "test_accuracies = []\n",
        "\n",
        "for epoch in range(epochs):\n",
        "    train_loss, train_acc = train(model, trainloader, criterion, optimizer, device)\n",
        "    test_acc = test(model, testloader, criterion, device)\n",
        "\n",
        "    train_accuracies.append(train_acc)\n",
        "    test_accuracies.append(test_acc)\n",
        "\n",
        "    print(f'Epoch {epoch + 1} | Train Loss: {train_loss:.3f} | Train Accuracy: {train_acc:.3f}% | Test Accuracy: {test_acc:.3f}%')"
      ],
      "metadata": {
        "id": "s5L9mHqiOL5n",
        "colab": {
          "base_uri": "https://localhost:8080/"
        },
        "outputId": "83367028-f819-4d98-8d75-2854f6c0f939"
      },
      "execution_count": 15,
      "outputs": [
        {
          "output_type": "stream",
          "name": "stdout",
          "text": [
            "Epoch 1 | Train Loss: 0.360 | Train Accuracy: 86.067% | Test Accuracy: 84.700%\n",
            "Epoch 2 | Train Loss: 0.224 | Train Accuracy: 91.647% | Test Accuracy: 92.800%\n",
            "Epoch 3 | Train Loss: 0.184 | Train Accuracy: 93.267% | Test Accuracy: 93.067%\n",
            "Epoch 4 | Train Loss: 0.172 | Train Accuracy: 93.860% | Test Accuracy: 93.033%\n",
            "Epoch 5 | Train Loss: 0.137 | Train Accuracy: 94.807% | Test Accuracy: 95.000%\n"
          ]
        }
      ]
    },
    {
      "cell_type": "code",
      "source": [
        "plot_accuracies(train_accuracies, test_accuracies, epochs)\n",
        "class_names = ['0', '2', '4', '6', '8']\n",
        "plot_confusion_matrix(model, testloader, class_names, device)"
      ],
      "metadata": {
        "colab": {
          "base_uri": "https://localhost:8080/",
          "height": 979
        },
        "id": "8OJenyBPgvnm",
        "outputId": "b3371bba-929b-41e1-b7e2-2d0561415997"
      },
      "execution_count": 16,
      "outputs": [
        {
          "output_type": "stream",
          "name": "stdout",
          "text": [
            "Train Accuracies: [86.06666666666666, 91.64666666666666, 93.26666666666667, 93.86, 94.80666666666667]\n",
            "Test Accuracies: [84.7, 92.8, 93.06666666666666, 93.03333333333333, 95.0]\n"
          ]
        },
        {
          "output_type": "display_data",
          "data": {
            "text/plain": [
              "<Figure size 640x480 with 1 Axes>"
            ],
            "image/png": "[encoded data removed]"
          },
          "metadata": {}
        },
        {
          "output_type": "display_data",
          "data": {
            "text/plain": [
              "<Figure size 500x500 with 2 Axes>"
            ],
            "image/png": "[encoded data removed]"
          },
          "metadata": {}
        }
      ]
    }
  ]
}